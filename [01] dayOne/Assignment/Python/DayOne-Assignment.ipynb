{
 "cells": [
  {
   "cell_type": "markdown",
   "id": "c6247acd",
   "metadata": {},
   "source": [
    "# Day One Assignment\n",
    "\n",
    "**Check if the given dataset `gen1.csv` is monotonic or not**"
   ]
  },
  {
   "cell_type": "code",
   "execution_count": 1,
   "id": "3e67c616",
   "metadata": {},
   "outputs": [
    {
     "data": {
      "text/html": [
       "<div>\n",
       "<style scoped>\n",
       "    .dataframe tbody tr th:only-of-type {\n",
       "        vertical-align: middle;\n",
       "    }\n",
       "\n",
       "    .dataframe tbody tr th {\n",
       "        vertical-align: top;\n",
       "    }\n",
       "\n",
       "    .dataframe thead th {\n",
       "        text-align: right;\n",
       "    }\n",
       "</style>\n",
       "<table border=\"1\" class=\"dataframe\">\n",
       "  <thead>\n",
       "    <tr style=\"text-align: right;\">\n",
       "      <th></th>\n",
       "      <th>temp</th>\n",
       "      <th>vp</th>\n",
       "      <th>PET</th>\n",
       "      <th>rainfall</th>\n",
       "    </tr>\n",
       "  </thead>\n",
       "  <tbody>\n",
       "    <tr>\n",
       "      <th>0</th>\n",
       "      <td>22.13</td>\n",
       "      <td>23.50</td>\n",
       "      <td>5.87</td>\n",
       "      <td>0.27</td>\n",
       "    </tr>\n",
       "    <tr>\n",
       "      <th>1</th>\n",
       "      <td>24.16</td>\n",
       "      <td>22.39</td>\n",
       "      <td>6.52</td>\n",
       "      <td>2.69</td>\n",
       "    </tr>\n",
       "    <tr>\n",
       "      <th>2</th>\n",
       "      <td>26.04</td>\n",
       "      <td>24.43</td>\n",
       "      <td>7.21</td>\n",
       "      <td>30.48</td>\n",
       "    </tr>\n",
       "    <tr>\n",
       "      <th>3</th>\n",
       "      <td>27.03</td>\n",
       "      <td>36.90</td>\n",
       "      <td>7.26</td>\n",
       "      <td>12.83</td>\n",
       "    </tr>\n",
       "    <tr>\n",
       "      <th>4</th>\n",
       "      <td>26.60</td>\n",
       "      <td>45.12</td>\n",
       "      <td>6.88</td>\n",
       "      <td>116.82</td>\n",
       "    </tr>\n",
       "    <tr>\n",
       "      <th>...</th>\n",
       "      <td>...</td>\n",
       "      <td>...</td>\n",
       "      <td>...</td>\n",
       "      <td>...</td>\n",
       "    </tr>\n",
       "    <tr>\n",
       "      <th>2446</th>\n",
       "      <td>26.95</td>\n",
       "      <td>44.63</td>\n",
       "      <td>5.23</td>\n",
       "      <td>156.34</td>\n",
       "    </tr>\n",
       "    <tr>\n",
       "      <th>2447</th>\n",
       "      <td>25.45</td>\n",
       "      <td>37.62</td>\n",
       "      <td>5.28</td>\n",
       "      <td>0.30</td>\n",
       "    </tr>\n",
       "    <tr>\n",
       "      <th>2448</th>\n",
       "      <td>26.01</td>\n",
       "      <td>28.74</td>\n",
       "      <td>5.70</td>\n",
       "      <td>NaN</td>\n",
       "    </tr>\n",
       "    <tr>\n",
       "      <th>2449</th>\n",
       "      <td>27.12</td>\n",
       "      <td>25.59</td>\n",
       "      <td>6.27</td>\n",
       "      <td>NaN</td>\n",
       "    </tr>\n",
       "    <tr>\n",
       "      <th>2450</th>\n",
       "      <td>28.22</td>\n",
       "      <td>28.90</td>\n",
       "      <td>6.64</td>\n",
       "      <td>11.74</td>\n",
       "    </tr>\n",
       "  </tbody>\n",
       "</table>\n",
       "<p>2451 rows × 4 columns</p>\n",
       "</div>"
      ],
      "text/plain": [
       "       temp     vp   PET  rainfall\n",
       "0     22.13  23.50  5.87      0.27\n",
       "1     24.16  22.39  6.52      2.69\n",
       "2     26.04  24.43  7.21     30.48\n",
       "3     27.03  36.90  7.26     12.83\n",
       "4     26.60  45.12  6.88    116.82\n",
       "...     ...    ...   ...       ...\n",
       "2446  26.95  44.63  5.23    156.34\n",
       "2447  25.45  37.62  5.28      0.30\n",
       "2448  26.01  28.74  5.70       NaN\n",
       "2449  27.12  25.59  6.27       NaN\n",
       "2450  28.22  28.90  6.64     11.74\n",
       "\n",
       "[2451 rows x 4 columns]"
      ]
     },
     "execution_count": 1,
     "metadata": {},
     "output_type": "execute_result"
    }
   ],
   "source": [
    "# importing Python Packages\n",
    "import pandas as pd\n",
    "\n",
    "# reading the dataset\n",
    "data = pd.read_csv(\"gen1.csv\")\n",
    "\n",
    "# displaying the dataset\n",
    "data"
   ]
  },
  {
   "cell_type": "code",
   "execution_count": 2,
   "id": "7386f8ec",
   "metadata": {},
   "outputs": [
    {
     "data": {
      "text/plain": [
       "False"
      ]
     },
     "execution_count": 2,
     "metadata": {},
     "output_type": "execute_result"
    }
   ],
   "source": [
    "data['temp'].is_monotonic"
   ]
  },
  {
   "cell_type": "code",
   "execution_count": 3,
   "id": "15aec22c",
   "metadata": {},
   "outputs": [
    {
     "data": {
      "text/plain": [
       "False"
      ]
     },
     "execution_count": 3,
     "metadata": {},
     "output_type": "execute_result"
    }
   ],
   "source": [
    "data['vp'].is_monotonic"
   ]
  },
  {
   "cell_type": "code",
   "execution_count": 4,
   "id": "3f1e7b94",
   "metadata": {},
   "outputs": [
    {
     "data": {
      "text/plain": [
       "False"
      ]
     },
     "execution_count": 4,
     "metadata": {},
     "output_type": "execute_result"
    }
   ],
   "source": [
    "data['PET'].is_monotonic"
   ]
  },
  {
   "cell_type": "code",
   "execution_count": 5,
   "id": "5b0d63cd",
   "metadata": {},
   "outputs": [
    {
     "data": {
      "text/plain": [
       "False"
      ]
     },
     "execution_count": 5,
     "metadata": {},
     "output_type": "execute_result"
    }
   ],
   "source": [
    "data['rainfall'].is_monotonic"
   ]
  }
 ],
 "metadata": {
  "kernelspec": {
   "display_name": "Python 3",
   "language": "python",
   "name": "python3"
  },
  "language_info": {
   "codemirror_mode": {
    "name": "ipython",
    "version": 3
   },
   "file_extension": ".py",
   "mimetype": "text/x-python",
   "name": "python",
   "nbconvert_exporter": "python",
   "pygments_lexer": "ipython3",
   "version": "3.8.8"
  }
 },
 "nbformat": 4,
 "nbformat_minor": 5
}
